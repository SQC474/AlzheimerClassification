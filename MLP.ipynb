{
 "cells": [
  {
   "cell_type": "code",
   "execution_count": 4,
   "metadata": {
    "id": "7Pbo3QgHU6PA"
   },
   "outputs": [],
   "source": [
    "# possibly required libraries\n",
    "import numpy as np\n",
    "import matplotlib.pyplot as plt\n",
    "import time as time\n",
    "import torch\n",
    "import torch.nn as nn\n",
    "import torch.optim as optim\n",
    "from torchvision.datasets import ImageFolder\n",
    "from torch.utils.data import Subset\n",
    "from torchvision.transforms import ToTensor,Lambda\n",
    "import torchvision.transforms as transforms\n",
    "from torch.utils.data import random_split\n",
    "from torch.utils.data.dataloader import DataLoader\n",
    "from sklearn.metrics import confusion_matrix, ConfusionMatrixDisplay\n",
    "from sklearn.metrics import classification_report"
   ]
  },
  {
   "cell_type": "code",
   "execution_count": 5,
   "metadata": {
    "id": "GUcS_cCIVOfY"
   },
   "outputs": [
    {
     "data": {
      "text/plain": [
       "<torch._C.Generator at 0x2716f4ad710>"
      ]
     },
     "execution_count": 5,
     "metadata": {},
     "output_type": "execute_result"
    }
   ],
   "source": [
    "# load data\n",
    "import os\n",
    "data_dir = 'imagesoasis\\Data'# change to data path\n",
    "# labels = os.listdir(data_dir)\n",
    "labels = ['Mild Dementia',\n",
    " 'Very mild Dementia',\n",
    " 'Moderate Dementia',\n",
    " 'Non Demented']\n",
    "\n",
    "transforms_list = transforms.Compose([transforms.Grayscale(),\n",
    "                                      transforms.ToTensor()\n",
    "                                      ])\n",
    "dataset = ImageFolder(data_dir, transforms_list, target_transform=Lambda(lambda y: torch.zeros(4, dtype=torch.float).scatter_(0, torch.tensor(y), value=1)))\n",
    "\n",
    "\n",
    "\n",
    "\n",
    "# Sthe random seed for reproducible datasets\n",
    "random_seed = 42\n",
    "torch.manual_seed(random_seed)"
   ]
  },
  {
   "cell_type": "code",
   "execution_count": 6,
   "metadata": {},
   "outputs": [
    {
     "name": "stdout",
     "output_type": "stream",
     "text": [
      "number of Mild Dementia: 5002\n",
      "number of Very mild Dementia: 13725\n",
      "number of Moderate Dementia: 488\n",
      "number of Non Demented: 5919\n"
     ]
    }
   ],
   "source": [
    "labels = ['Mild Dementia',\n",
    " 'Very mild Dementia',\n",
    " 'Moderate Dementia',\n",
    " 'Non Demented']\n",
    "for label in labels:\n",
    "  print('number of {}: {}'.format(label, len(os.listdir(os.path.join(data_dir, label)))))"
   ]
  },
  {
   "cell_type": "code",
   "execution_count": 7,
   "metadata": {
    "id": "IKh53YE4Ve7y"
   },
   "outputs": [],
   "source": [
    "# Split into training and testing set in the ratio of 0.7: 0.3\n",
    "\n",
    "# fill your code:\n",
    "\n",
    "train_size =0.7\n",
    "test_size =0.3\n",
    "\n",
    "train_set, test_set = random_split(dataset, [train_size, test_size])"
   ]
  },
  {
   "cell_type": "code",
   "execution_count": 8,
   "metadata": {
    "id": "VZBV_019VsHZ"
   },
   "outputs": [],
   "source": [
    "# Split datasets into batches with batch size = 256\n",
    "batch_size = 256\n",
    "train_loader = DataLoader(train_set, batch_size, shuffle=True, num_workers=0, pin_memory=True)\n",
    "test_loader = DataLoader(test_set, batch_size, num_workers=0, pin_memory=True)"
   ]
  },
  {
   "cell_type": "code",
   "execution_count": 9,
   "metadata": {
    "id": "niyUlqamV2a0"
   },
   "outputs": [],
   "source": [
    "# Define the model as required\n",
    "class MLP(nn.Module):\n",
    "    def __init__(self):\n",
    "        super(MLP, self).__init__()\n",
    "\n",
    "        # activations:\n",
    "        self.relu = nn.ReLU()\n",
    "        self.softmax = nn.Softmax(dim=1)\n",
    "\n",
    "        # layers\n",
    "        self.fc1 = nn.Linear(123008, 256)\n",
    "        self.fc2 = nn.Linear(256, 64)\n",
    "        self.fc3 = nn.Linear(64, 4)\n",
    "      \n",
    "    def forward(self, x):\n",
    "        x = self.fc1(x)\n",
    "        x = self.relu(x)\n",
    "        x = self.fc2(x)\n",
    "        x = self.relu(x)\n",
    "        x = self.fc3(x)\n",
    "        x = self.softmax(x)\n",
    "        return x\n",
    "      \n",
    "def evaluate(model, test_loader, device):\n",
    "    correct = 0\n",
    "    total = 0\n",
    "\n",
    "    y_pred = []\n",
    "    y_true = []\n",
    "\n",
    "\n",
    "    with torch.no_grad():\n",
    "        for images, labels in test_loader:\n",
    "            bs = images.shape[0]\n",
    "            images = images.to(device).reshape((bs, -1))\n",
    "            labels = labels.to(device)\n",
    "            outputs = model(images)\n",
    "            _, predicted = torch.max(outputs.data, 1)\n",
    "            total += labels.size(0)\n",
    "            correct += (predicted == labels.argmax(axis = 1)).sum().item()\n",
    "\n",
    "        y_pred.extend(predicted.tolist())\n",
    "        y_true.extend(labels.argmax(axis = 1).tolist())\n",
    "        return correct / total, y_pred, y_true\n"
   ]
  },
  {
   "cell_type": "code",
   "execution_count": 10,
   "metadata": {
    "id": "S-jVEpvaWI8S"
   },
   "outputs": [
    {
     "name": "stdout",
     "output_type": "stream",
     "text": [
      "elapsed time: 00:05:50.65\n"
     ]
    }
   ],
   "source": [
    "tic = time.time()\n",
    "device = \"cuda\" if torch.cuda.is_available() else \"cpu\"\n",
    "# fill your code here:\n",
    "\n",
    "# Initialize the model\n",
    "model = MLP().to(device)\n",
    "\n",
    "# Define the loss function\n",
    "loss_fn = nn.CrossEntropyLoss()\n",
    "\n",
    "# Define the optimizer\n",
    "optimizer = optim.SGD(model.parameters(), lr=0.001)\n",
    "# Training loop\n",
    "num_epochs = 1\n",
    "\n",
    "for epoch in range(num_epochs):\n",
    "  for i, (images, labels) in enumerate(train_loader):\n",
    "    bs = images.shape[0]\n",
    "    images = images.to(device).reshape((bs, -1))\n",
    "    labels = labels.to(device)\n",
    "     # Forward pass\n",
    "    outputs = model(images)\n",
    "    loss = loss_fn(outputs, labels)\n",
    "\n",
    "    # Backward pass and optimize\n",
    "    optimizer.zero_grad()\n",
    "    loss.backward()\n",
    "    optimizer.step()\n",
    "toc = time.time()\n",
    "hours, rem = divmod(toc-tic, 3600)\n",
    "minutes, seconds = divmod(rem, 60)\n",
    "print(\"elapsed time: {:0>2}:{:0>2}:{:05.2f}\".format(int(hours),int(minutes),seconds))"
   ]
  },
  {
   "cell_type": "code",
   "execution_count": 11,
   "metadata": {
    "id": "MfPrya3RWJpT"
   },
   "outputs": [
    {
     "name": "stdout",
     "output_type": "stream",
     "text": [
      "training acc 0.5490716180371353\n",
      "test acc 0.5490716180371353\n"
     ]
    }
   ],
   "source": [
    "# report training and testing accuray:\n",
    "acc, _, _ = evaluate(model, test_loader, device)\n",
    "print('training acc {}'.format(acc))\n",
    "acc, y_pred, y_true = evaluate(model, test_loader, device)\n",
    "print('test acc {}'.format(acc))"
   ]
  },
  {
   "cell_type": "code",
   "execution_count": 12,
   "metadata": {
    "id": "qib7G2CfWN4K"
   },
   "outputs": [
    {
     "data": {
      "image/png": "[encoded data removed]",
      "text/plain": [
       "<Figure size 640x480 with 2 Axes>"
      ]
     },
     "metadata": {},
     "output_type": "display_data"
    }
   ],
   "source": [
    "# plot confusion matrix\n",
    "cm = confusion_matrix(y_true, y_pred)\n",
    "disp = ConfusionMatrixDisplay(confusion_matrix=cm)\n",
    "disp.plot()\n",
    "plt.show()"
   ]
  },
  {
   "cell_type": "code",
   "execution_count": 13,
   "metadata": {
    "id": "IPQU1OxXWZjF"
   },
   "outputs": [
    {
     "name": "stdout",
     "output_type": "stream",
     "text": [
      "              precision    recall  f1-score   support\n",
      "\n",
      "           0       0.00      0.00      0.00        27\n",
      "           1       0.00      0.00      0.00         1\n",
      "           2       0.00      0.00      0.00        29\n",
      "           3       0.51      1.00      0.67        59\n",
      "\n",
      "    accuracy                           0.51       116\n",
      "   macro avg       0.13      0.25      0.17       116\n",
      "weighted avg       0.26      0.51      0.34       116\n",
      "\n"
     ]
    }
   ],
   "source": [
    "# display classification report\n",
    "report = classification_report(y_true, y_pred, zero_division=0)\n",
    "print(report)"
   ]
  }
 ],
 "metadata": {
  "colab": {
   "provenance": []
  },
  "kernelspec": {
   "display_name": "Python 3 (ipykernel)",
   "language": "python",
   "name": "python3"
  },
  "language_info": {
   "codemirror_mode": {
    "name": "ipython",
    "version": 3
   },
   "file_extension": ".py",
   "mimetype": "text/x-python",
   "name": "python",
   "nbconvert_exporter": "python",
   "pygments_lexer": "ipython3",
   "version": "3.11.7"
  }
 },
 "nbformat": 4,
 "nbformat_minor": 4
}

{
 "cells": [
  {
   "cell_type": "code",
   "execution_count": 7,
   "id": "1c557e0d-a887-4c3d-9dce-7adfeeccbde3",
   "metadata": {},
   "outputs": [],
   "source": [
    "# possibly required libraries\n",
    "import numpy as np\n",
    "import matplotlib.pyplot as plt\n",
    "import time as time\n",
    "import torch\n",
    "import torch.nn as nn\n",
    "import torch.optim as optim\n",
    "from torchvision.datasets import ImageFolder\n",
    "from torch.utils.data import Subset\n",
    "from torchvision.transforms import ToTensor,Lambda\n",
    "import torchvision.transforms as transforms\n",
    "from torch.utils.data import random_split\n",
    "from torch.utils.data.dataloader import DataLoader\n",
    "from sklearn.metrics import confusion_matrix, ConfusionMatrixDisplay\n",
    "from sklearn.metrics import classification_report"
   ]
  },
  {
   "cell_type": "code",
   "execution_count": 8,
   "id": "fdb90bb0-0c49-47e2-8eee-d891947e4b09",
   "metadata": {},
   "outputs": [
    {
     "data": {
      "text/plain": [
       "<torch._C.Generator at 0x2792a337150>"
      ]
     },
     "execution_count": 8,
     "metadata": {},
     "output_type": "execute_result"
    }
   ],
   "source": [
    "# load data\n",
    "import os\n",
    "data_dir = 'imagesoasis\\Data'# change to data path\n",
    "# labels = os.listdir(data_dir)\n",
    "labels = ['Mild Dementia',\n",
    " 'Very mild Dementia',\n",
    " 'Moderate Dementia',\n",
    " 'Non Demented']\n",
    "\n",
    "transforms_list = transforms.Compose([transforms.Grayscale(),\n",
    "                                      transforms.ToTensor()\n",
    "                                      ])\n",
    "dataset = ImageFolder(data_dir, transforms_list, target_transform=Lambda(lambda y: torch.zeros(4, dtype=torch.float).scatter_(0, torch.tensor(y), value=1)))\n",
    "\n",
    "\n",
    "\n",
    "\n",
    "# Sthe random seed for reproducible datasets\n",
    "random_seed = 42\n",
    "torch.manual_seed(random_seed)"
   ]
  },
  {
   "cell_type": "code",
   "execution_count": 9,
   "id": "6e2e579d-eecf-4efb-bfdc-00e7b3921536",
   "metadata": {},
   "outputs": [],
   "source": [
    "train_size =0.7\n",
    "test_size =0.3\n",
    "\n",
    "train_set, test_set = random_split(dataset, [train_size, test_size])"
   ]
  },
  {
   "cell_type": "code",
   "execution_count": 10,
   "id": "17920ffd-b858-4327-9ae3-a711ef08f471",
   "metadata": {},
   "outputs": [],
   "source": [
    "batch_size = 32\n",
    "train_loader = DataLoader(train_set, batch_size, shuffle=True, num_workers=0, pin_memory=True)\n",
    "test_loader = DataLoader(test_set, batch_size, num_workers=0, pin_memory=True)"
   ]
  },
  {
   "cell_type": "code",
   "execution_count": 11,
   "id": "44e4c60d-ac4b-4e9a-a8a1-9772639c0b2c",
   "metadata": {},
   "outputs": [],
   "source": [
    "class CNN(nn.Module):\n",
    "  def __init__(self):\n",
    "    super(CNN, self).__init__()\n",
    "      \n",
    "    self.MaxPool = nn.MaxPool2d(2)\n",
    "    # activations:\n",
    "    self.relu = nn.ReLU()\n",
    "    self.softmax = nn.Softmax(dim=1)\n",
    "\n",
    "    # add flatten\n",
    "    self.flatten = nn.Flatten()\n",
    "\n",
    "    # linear layers\n",
    "    self.fc1 = nn.Linear(117120,4)\n",
    "    # add conv layers\n",
    "    self.conv1 = nn.Conv2d(1, 8, 3)\n",
    "    self.conv2 = nn.Conv2d(8, 16, 3)\n",
    "    self.bn1 = nn.BatchNorm2d(8)\n",
    "    self.bn2 = nn.BatchNorm2d(16)\n",
    "  def forward(self, x):\n",
    "    # print('input shape: {}'.format(x.shape))\n",
    "    x = self.conv1(x)\n",
    "    x = self.bn1(x)\n",
    "    # print('after conv shape: {}'.format(x.shape))\n",
    "    x = self.MaxPool(x)\n",
    "    x = self.conv2(x)\n",
    "    x = self.bn2(x)\n",
    "    x = self.MaxPool(x)\n",
    "    x = self.flatten(x)\n",
    "    #print('after flatten shape: {}'.format(x.shape))\n",
    "    x = self.fc1(x)\n",
    "    # print('after fc1 shape: {}'.format(x.shape))\n",
    "    # print('output shape: {}'.format(x.shape))\n",
    "    return x\n",
    "def evaluate(model, test_loader, device):\n",
    "    correct = 0\n",
    "    total = 0\n",
    "\n",
    "    y_pred = []\n",
    "    y_true = []\n",
    "\n",
    "\n",
    "    with torch.no_grad():\n",
    "        for images, labels in test_loader:\n",
    "            bs = images.shape[0]\n",
    "            images = images.to(device)\n",
    "            labels = labels.to(device)\n",
    "            outputs = model(images)\n",
    "            _, predicted = torch.max(outputs.data, 1)\n",
    "            total += labels.size(0)\n",
    "            correct += (predicted == labels.argmax(axis = 1)).sum().item()\n",
    "\n",
    "        y_pred.extend(predicted.tolist())\n",
    "        y_true.extend(labels.argmax(axis = 1).tolist())\n",
    "        return correct / total, y_pred, y_true\n"
   ]
  },
  {
   "cell_type": "code",
   "execution_count": 12,
   "id": "18b419d2-39ea-4c10-998e-85e87228d140",
   "metadata": {},
   "outputs": [
    {
     "name": "stdout",
     "output_type": "stream",
     "text": [
      "elapsed time: 00:54:43.24\n"
     ]
    }
   ],
   "source": [
    "tic = time.time()\n",
    "device = \"cuda\" if torch.cuda.is_available() else \"cpu\"\n",
    "# Initialize the model\n",
    "model = CNN().to(device)\n",
    "\n",
    "# Define the loss function\n",
    "loss_fn = nn.CrossEntropyLoss()\n",
    "\n",
    "# Define the optimizer\n",
    "optimizer = optim.SGD(model.parameters(), lr=0.001)\n",
    "# Training loop\n",
    "num_epochs = 4\n",
    "\n",
    "for epoch in range(num_epochs):\n",
    "  # Save the trained_epoch, model, optimizer, and loss,\n",
    "  torch.save({\n",
    "  'epoch': num_epochs,\n",
    "  'model_state_dict': model.state_dict(),\n",
    "  'optimizer_state_dict': optimizer.state_dict(),\n",
    "  'loss': loss_fn,\n",
    "  }, 'checkpoint.pth')\n",
    "  for i, (images, labels) in enumerate(train_loader):\n",
    "    bs = images.shape[0]\n",
    "    images = images.to(device)\n",
    "    labels = labels.to(device)\n",
    "     # Forward pass\n",
    "    outputs = model(images)\n",
    "    loss = loss_fn(outputs, labels)\n",
    "\n",
    "    # Backward pass and optimize\n",
    "    optimizer.zero_grad()\n",
    "    loss.backward()\n",
    "    optimizer.step()\n",
    "toc = time.time()\n",
    "hours, rem = divmod(toc-tic, 3600)\n",
    "minutes, seconds = divmod(rem, 60)\n",
    "print(\"elapsed time: {:0>2}:{:0>2}:{:05.2f}\".format(int(hours),int(minutes),seconds))"
   ]
  },
  {
   "cell_type": "code",
   "execution_count": 13,
   "id": "1ad7e9bb-b09c-40db-9e64-0b7eb25bf05a",
   "metadata": {},
   "outputs": [
    {
     "name": "stdout",
     "output_type": "stream",
     "text": [
      "test acc 0.9986737400530504\n"
     ]
    }
   ],
   "source": [
    "# report training and testing accuray:\n",
    "acc, _, _ = evaluate(model, test_loader, device)\n",
    "acc, y_pred, y_true = evaluate(model, test_loader, device)\n",
    "print('test acc {}'.format(acc))"
   ]
  },
  {
   "cell_type": "code",
   "execution_count": 14,
   "id": "439c4a1e-76e2-4dfa-a048-9188620322a3",
   "metadata": {
    "scrolled": true
   },
   "outputs": [
    {
     "data": {
      "image/png": "[encoded data removed]",
      "text/plain": [
       "<Figure size 640x480 with 2 Axes>"
      ]
     },
     "metadata": {},
     "output_type": "display_data"
    }
   ],
   "source": [
    "# plot confusion matrix\n",
    "cm = confusion_matrix(y_true, y_pred)\n",
    "disp = ConfusionMatrixDisplay(confusion_matrix=cm)\n",
    "disp.plot()\n",
    "plt.show()"
   ]
  },
  {
   "cell_type": "code",
   "execution_count": 15,
   "id": "65e85d9f-f468-440c-96c7-40501654b108",
   "metadata": {},
   "outputs": [
    {
     "name": "stdout",
     "output_type": "stream",
     "text": [
      "              precision    recall  f1-score   support\n",
      "\n",
      "           0       1.00      1.00      1.00         6\n",
      "           2       1.00      1.00      1.00         5\n",
      "           3       1.00      1.00      1.00         9\n",
      "\n",
      "    accuracy                           1.00        20\n",
      "   macro avg       1.00      1.00      1.00        20\n",
      "weighted avg       1.00      1.00      1.00        20\n",
      "\n"
     ]
    }
   ],
   "source": [
    "# display classification report\n",
    "report = classification_report(y_true, y_pred, zero_division=0)\n",
    "print(report)"
   ]
  },
  {
   "cell_type": "code",
   "execution_count": 16,
   "id": "3ab79b0c-d226-43ac-81a3-164f8dfeff74",
   "metadata": {},
   "outputs": [],
   "source": [
    "# Save the trained_epoch, model, optimizer, and loss,\n",
    "torch.save({\n",
    "    'epoch': num_epochs,\n",
    "    'model_state_dict': model.state_dict(),\n",
    "    'optimizer_state_dict': optimizer.state_dict(),\n",
    "    'loss': loss,\n",
    "}, 'checkpoint.pth')\n",
    "\n",
    "# Load the model, optimizer, and loss\n",
    "checkpoint = torch.load('checkpoint.pth')\n",
    "model.load_state_dict(checkpoint['model_state_dict'])\n",
    "optimizer.load_state_dict(checkpoint['optimizer_state_dict'])\n",
    "epoch = checkpoint['epoch']\n",
    "loss = checkpoint['loss']"
   ]
  }
 ],
 "metadata": {
  "kernelspec": {
   "display_name": "Python 3 (ipykernel)",
   "language": "python",
   "name": "python3"
  },
  "language_info": {
   "codemirror_mode": {
    "name": "ipython",
    "version": 3
   },
   "file_extension": ".py",
   "mimetype": "text/x-python",
   "name": "python",
   "nbconvert_exporter": "python",
   "pygments_lexer": "ipython3",
   "version": "3.11.7"
  }
 },
 "nbformat": 4,
 "nbformat_minor": 5
}
